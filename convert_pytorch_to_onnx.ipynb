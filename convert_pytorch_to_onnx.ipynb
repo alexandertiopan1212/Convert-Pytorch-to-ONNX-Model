{
 "cells": [
  {
   "cell_type": "code",
   "execution_count": 1,
   "metadata": {
    "colab": {
     "base_uri": "https://localhost:8080/"
    },
    "executionInfo": {
     "elapsed": 6513,
     "status": "ok",
     "timestamp": 1695981090830,
     "user": {
      "displayName": "pycodes",
      "userId": "00703128687656036027"
     },
     "user_tz": -420
    },
    "id": "BA05MNcdWX5z",
    "outputId": "dd6e2ba3-bbe3-4784-e47f-fa6a3235918e",
    "scrolled": false
   },
   "outputs": [
    {
     "name": "stdout",
     "output_type": "stream",
     "text": [
      "Requirement already satisfied: onnx-tf in /Users/user/anaconda3/lib/python3.11/site-packages (1.10.0)\n",
      "Requirement already satisfied: onnx>=1.10.2 in /Users/user/anaconda3/lib/python3.11/site-packages (from onnx-tf) (1.15.0)\n",
      "Requirement already satisfied: PyYAML in /Users/user/anaconda3/lib/python3.11/site-packages (from onnx-tf) (6.0)\n",
      "Requirement already satisfied: tensorflow-addons in /Users/user/anaconda3/lib/python3.11/site-packages (from onnx-tf) (0.23.0)\n",
      "Requirement already satisfied: numpy in /Users/user/anaconda3/lib/python3.11/site-packages (from onnx>=1.10.2->onnx-tf) (1.24.3)\n",
      "Requirement already satisfied: protobuf>=3.20.2 in /Users/user/anaconda3/lib/python3.11/site-packages (from onnx>=1.10.2->onnx-tf) (4.25.3)\n",
      "Requirement already satisfied: typeguard<3.0.0,>=2.7 in /Users/user/anaconda3/lib/python3.11/site-packages (from tensorflow-addons->onnx-tf) (2.13.3)\n",
      "Requirement already satisfied: packaging in /Users/user/anaconda3/lib/python3.11/site-packages (from tensorflow-addons->onnx-tf) (23.1)\n"
     ]
    }
   ],
   "source": [
    "!pip install -U onnx-tf"
   ]
  },
  {
   "cell_type": "code",
   "execution_count": 2,
   "metadata": {
    "scrolled": true
   },
   "outputs": [
    {
     "name": "stdout",
     "output_type": "stream",
     "text": [
      "Requirement already satisfied: torch in /Users/user/anaconda3/lib/python3.11/site-packages (2.2.1)\n",
      "Requirement already satisfied: filelock in /Users/user/anaconda3/lib/python3.11/site-packages (from torch) (3.9.0)\n",
      "Requirement already satisfied: typing-extensions>=4.8.0 in /Users/user/anaconda3/lib/python3.11/site-packages (from torch) (4.9.0)\n",
      "Requirement already satisfied: sympy in /Users/user/anaconda3/lib/python3.11/site-packages (from torch) (1.11.1)\n",
      "Requirement already satisfied: networkx in /Users/user/anaconda3/lib/python3.11/site-packages (from torch) (3.1)\n",
      "Requirement already satisfied: jinja2 in /Users/user/anaconda3/lib/python3.11/site-packages (from torch) (3.1.2)\n",
      "Requirement already satisfied: fsspec in /Users/user/anaconda3/lib/python3.11/site-packages (from torch) (2023.4.0)\n",
      "Requirement already satisfied: MarkupSafe>=2.0 in /Users/user/anaconda3/lib/python3.11/site-packages (from jinja2->torch) (2.1.1)\n",
      "Requirement already satisfied: mpmath>=0.19 in /Users/user/anaconda3/lib/python3.11/site-packages (from sympy->torch) (1.3.0)\n"
     ]
    }
   ],
   "source": [
    "!pip install torch"
   ]
  },
  {
   "cell_type": "code",
   "execution_count": 3,
   "metadata": {
    "scrolled": false
   },
   "outputs": [
    {
     "name": "stdout",
     "output_type": "stream",
     "text": [
      "Requirement already satisfied: tensorflow in /Users/user/anaconda3/lib/python3.11/site-packages (2.15.0)\n",
      "Requirement already satisfied: absl-py>=1.0.0 in /Users/user/anaconda3/lib/python3.11/site-packages (from tensorflow) (2.1.0)\n",
      "Requirement already satisfied: astunparse>=1.6.0 in /Users/user/anaconda3/lib/python3.11/site-packages (from tensorflow) (1.6.3)\n",
      "Requirement already satisfied: flatbuffers>=23.5.26 in /Users/user/anaconda3/lib/python3.11/site-packages (from tensorflow) (23.5.26)\n",
      "Requirement already satisfied: gast!=0.5.0,!=0.5.1,!=0.5.2,>=0.2.1 in /Users/user/anaconda3/lib/python3.11/site-packages (from tensorflow) (0.5.4)\n",
      "Requirement already satisfied: google-pasta>=0.1.1 in /Users/user/anaconda3/lib/python3.11/site-packages (from tensorflow) (0.2.0)\n",
      "Requirement already satisfied: h5py>=2.9.0 in /Users/user/anaconda3/lib/python3.11/site-packages (from tensorflow) (3.9.0)\n",
      "Requirement already satisfied: libclang>=13.0.0 in /Users/user/anaconda3/lib/python3.11/site-packages (from tensorflow) (16.0.6)\n",
      "Requirement already satisfied: ml-dtypes~=0.2.0 in /Users/user/anaconda3/lib/python3.11/site-packages (from tensorflow) (0.2.0)\n",
      "Requirement already satisfied: numpy<2.0.0,>=1.23.5 in /Users/user/anaconda3/lib/python3.11/site-packages (from tensorflow) (1.24.3)\n",
      "Requirement already satisfied: opt-einsum>=2.3.2 in /Users/user/anaconda3/lib/python3.11/site-packages (from tensorflow) (3.3.0)\n",
      "Requirement already satisfied: packaging in /Users/user/anaconda3/lib/python3.11/site-packages (from tensorflow) (23.1)\n",
      "Requirement already satisfied: protobuf!=4.21.0,!=4.21.1,!=4.21.2,!=4.21.3,!=4.21.4,!=4.21.5,<5.0.0dev,>=3.20.3 in /Users/user/anaconda3/lib/python3.11/site-packages (from tensorflow) (4.25.3)\n",
      "Requirement already satisfied: setuptools in /Users/user/anaconda3/lib/python3.11/site-packages (from tensorflow) (68.0.0)\n",
      "Requirement already satisfied: six>=1.12.0 in /Users/user/anaconda3/lib/python3.11/site-packages (from tensorflow) (1.16.0)\n",
      "Requirement already satisfied: termcolor>=1.1.0 in /Users/user/anaconda3/lib/python3.11/site-packages (from tensorflow) (2.4.0)\n",
      "Requirement already satisfied: typing-extensions>=3.6.6 in /Users/user/anaconda3/lib/python3.11/site-packages (from tensorflow) (4.9.0)\n",
      "Requirement already satisfied: wrapt<1.15,>=1.11.0 in /Users/user/anaconda3/lib/python3.11/site-packages (from tensorflow) (1.14.1)\n",
      "Requirement already satisfied: tensorflow-io-gcs-filesystem>=0.23.1 in /Users/user/anaconda3/lib/python3.11/site-packages (from tensorflow) (0.36.0)\n",
      "Requirement already satisfied: grpcio<2.0,>=1.24.3 in /Users/user/anaconda3/lib/python3.11/site-packages (from tensorflow) (1.62.0)\n",
      "Requirement already satisfied: tensorboard<2.16,>=2.15 in /Users/user/anaconda3/lib/python3.11/site-packages (from tensorflow) (2.15.2)\n",
      "Requirement already satisfied: tensorflow-estimator<2.16,>=2.15.0 in /Users/user/anaconda3/lib/python3.11/site-packages (from tensorflow) (2.15.0)\n",
      "Requirement already satisfied: keras<2.16,>=2.15.0 in /Users/user/anaconda3/lib/python3.11/site-packages (from tensorflow) (2.15.0)\n",
      "Requirement already satisfied: wheel<1.0,>=0.23.0 in /Users/user/anaconda3/lib/python3.11/site-packages (from astunparse>=1.6.0->tensorflow) (0.38.4)\n",
      "Requirement already satisfied: google-auth<3,>=1.6.3 in /Users/user/anaconda3/lib/python3.11/site-packages (from tensorboard<2.16,>=2.15->tensorflow) (2.28.1)\n",
      "Requirement already satisfied: google-auth-oauthlib<2,>=0.5 in /Users/user/anaconda3/lib/python3.11/site-packages (from tensorboard<2.16,>=2.15->tensorflow) (1.2.0)\n",
      "Requirement already satisfied: markdown>=2.6.8 in /Users/user/anaconda3/lib/python3.11/site-packages (from tensorboard<2.16,>=2.15->tensorflow) (3.4.1)\n",
      "Requirement already satisfied: requests<3,>=2.21.0 in /Users/user/anaconda3/lib/python3.11/site-packages (from tensorboard<2.16,>=2.15->tensorflow) (2.31.0)\n",
      "Requirement already satisfied: tensorboard-data-server<0.8.0,>=0.7.0 in /Users/user/anaconda3/lib/python3.11/site-packages (from tensorboard<2.16,>=2.15->tensorflow) (0.7.2)\n",
      "Requirement already satisfied: werkzeug>=1.0.1 in /Users/user/anaconda3/lib/python3.11/site-packages (from tensorboard<2.16,>=2.15->tensorflow) (2.2.3)\n",
      "Requirement already satisfied: cachetools<6.0,>=2.0.0 in /Users/user/anaconda3/lib/python3.11/site-packages (from google-auth<3,>=1.6.3->tensorboard<2.16,>=2.15->tensorflow) (5.3.3)\n",
      "Requirement already satisfied: pyasn1-modules>=0.2.1 in /Users/user/anaconda3/lib/python3.11/site-packages (from google-auth<3,>=1.6.3->tensorboard<2.16,>=2.15->tensorflow) (0.2.8)\n",
      "Requirement already satisfied: rsa<5,>=3.1.4 in /Users/user/anaconda3/lib/python3.11/site-packages (from google-auth<3,>=1.6.3->tensorboard<2.16,>=2.15->tensorflow) (4.9)\n",
      "Requirement already satisfied: requests-oauthlib>=0.7.0 in /Users/user/anaconda3/lib/python3.11/site-packages (from google-auth-oauthlib<2,>=0.5->tensorboard<2.16,>=2.15->tensorflow) (1.3.1)\n",
      "Requirement already satisfied: charset-normalizer<4,>=2 in /Users/user/anaconda3/lib/python3.11/site-packages (from requests<3,>=2.21.0->tensorboard<2.16,>=2.15->tensorflow) (2.0.4)\n",
      "Requirement already satisfied: idna<4,>=2.5 in /Users/user/anaconda3/lib/python3.11/site-packages (from requests<3,>=2.21.0->tensorboard<2.16,>=2.15->tensorflow) (3.4)\n",
      "Requirement already satisfied: urllib3<3,>=1.21.1 in /Users/user/anaconda3/lib/python3.11/site-packages (from requests<3,>=2.21.0->tensorboard<2.16,>=2.15->tensorflow) (1.26.16)\n",
      "Requirement already satisfied: certifi>=2017.4.17 in /Users/user/anaconda3/lib/python3.11/site-packages (from requests<3,>=2.21.0->tensorboard<2.16,>=2.15->tensorflow) (2023.7.22)\n",
      "Requirement already satisfied: MarkupSafe>=2.1.1 in /Users/user/anaconda3/lib/python3.11/site-packages (from werkzeug>=1.0.1->tensorboard<2.16,>=2.15->tensorflow) (2.1.1)\n",
      "Requirement already satisfied: pyasn1<0.5.0,>=0.4.6 in /Users/user/anaconda3/lib/python3.11/site-packages (from pyasn1-modules>=0.2.1->google-auth<3,>=1.6.3->tensorboard<2.16,>=2.15->tensorflow) (0.4.8)\n",
      "Requirement already satisfied: oauthlib>=3.0.0 in /Users/user/anaconda3/lib/python3.11/site-packages (from requests-oauthlib>=0.7.0->google-auth-oauthlib<2,>=0.5->tensorboard<2.16,>=2.15->tensorflow) (3.2.2)\n"
     ]
    }
   ],
   "source": [
    "!pip install tensorflow"
   ]
  },
  {
   "cell_type": "code",
   "execution_count": 4,
   "metadata": {},
   "outputs": [
    {
     "name": "stdout",
     "output_type": "stream",
     "text": [
      "Requirement already satisfied: tensorflow_probability in /Users/user/anaconda3/lib/python3.11/site-packages (0.23.0)\r\n",
      "Requirement already satisfied: absl-py in /Users/user/anaconda3/lib/python3.11/site-packages (from tensorflow_probability) (2.1.0)\r\n",
      "Requirement already satisfied: six>=1.10.0 in /Users/user/anaconda3/lib/python3.11/site-packages (from tensorflow_probability) (1.16.0)\r\n",
      "Requirement already satisfied: numpy>=1.13.3 in /Users/user/anaconda3/lib/python3.11/site-packages (from tensorflow_probability) (1.24.3)\r\n",
      "Requirement already satisfied: decorator in /Users/user/anaconda3/lib/python3.11/site-packages (from tensorflow_probability) (5.1.1)\r\n",
      "Requirement already satisfied: cloudpickle>=1.3 in /Users/user/anaconda3/lib/python3.11/site-packages (from tensorflow_probability) (2.2.1)\r\n",
      "Requirement already satisfied: gast>=0.3.2 in /Users/user/anaconda3/lib/python3.11/site-packages (from tensorflow_probability) (0.5.4)\r\n",
      "Requirement already satisfied: dm-tree in /Users/user/anaconda3/lib/python3.11/site-packages (from tensorflow_probability) (0.1.8)\r\n"
     ]
    }
   ],
   "source": [
    "!pip install tensorflow_probability"
   ]
  },
  {
   "cell_type": "code",
   "execution_count": 5,
   "metadata": {
    "colab": {
     "base_uri": "https://localhost:8080/"
    },
    "executionInfo": {
     "elapsed": 3593,
     "status": "ok",
     "timestamp": 1695981096884,
     "user": {
      "displayName": "pycodes",
      "userId": "00703128687656036027"
     },
     "user_tz": -420
    },
    "id": "Py_o2ra1zmzD",
    "outputId": "ea914992-68e5-4500-902e-86b62095c3e4"
   },
   "outputs": [
    {
     "name": "stderr",
     "output_type": "stream",
     "text": [
      "2024-03-02 10:05:37.725039: I tensorflow/core/platform/cpu_feature_guard.cc:182] This TensorFlow binary is optimized to use available CPU instructions in performance-critical operations.\n",
      "To enable the following instructions: AVX2 FMA, in other operations, rebuild TensorFlow with the appropriate compiler flags.\n",
      "/Users/user/anaconda3/lib/python3.11/site-packages/tensorflow_addons/utils/tfa_eol_msg.py:23: UserWarning: \n",
      "\n",
      "TensorFlow Addons (TFA) has ended development and introduction of new features.\n",
      "TFA has entered a minimal maintenance and release mode until a planned end of life in May 2024.\n",
      "Please modify downstream libraries to take dependencies from other repositories in our TensorFlow community (e.g. Keras, Keras-CV, and Keras-NLP). \n",
      "\n",
      "For more information see: https://github.com/tensorflow/addons/issues/2807 \n",
      "\n",
      "  warnings.warn(\n"
     ]
    }
   ],
   "source": [
    "import torch\n",
    "import torch.nn as nn\n",
    "import torch.optim as optim\n",
    "import onnx\n",
    "import tensorflow as tf\n",
    "import onnx_tf"
   ]
  },
  {
   "cell_type": "code",
   "execution_count": 6,
   "metadata": {
    "id": "Re2VLiHczm1a"
   },
   "outputs": [],
   "source": [
    "class CNN(nn.Module):\n",
    "    def __init__(self):\n",
    "        super(CNN, self).__init__()\n",
    "        self.block1 = nn.Sequential(\n",
    "            # 3x28x28\n",
    "            nn.Conv2d(in_channels=3,\n",
    "                      out_channels=16,\n",
    "                      kernel_size=5,\n",
    "                      stride=1,\n",
    "                      padding=2),\n",
    "            # 16x28x28\n",
    "            nn.MaxPool2d(kernel_size=2),\n",
    "            # 16x14x14\n",
    "            nn.LeakyReLU()\n",
    "        )\n",
    "        # 16x14x14\n",
    "        self.block2 = nn.Sequential(\n",
    "            nn.Conv2d(in_channels=16,\n",
    "                      out_channels=32,\n",
    "                      kernel_size=5,\n",
    "                      stride=1,\n",
    "                      padding=2),\n",
    "            # 32x14x14\n",
    "            nn.MaxPool2d(kernel_size=2),\n",
    "            # 32x7x7\n",
    "            nn.LeakyReLU()\n",
    "        )\n",
    "        # linearly\n",
    "        self.block3 = nn.Sequential(\n",
    "            nn.Linear(32 * 7 * 7, 100),\n",
    "            nn.LeakyReLU(),\n",
    "            nn.Linear(100, 37)\n",
    "        )\n",
    "        # 1x36\n",
    "\n",
    "    def forward(self, x):\n",
    "        out = self.block1(x)\n",
    "        out = self.block2(out)\n",
    "        # flatten the dataset\n",
    "        # ipdb; ipdb.set_trace()\n",
    "        out = out.view(-1, 32 * 7 * 7)\n",
    "        out = self.block3(out)\n",
    "\n",
    "        return out"
   ]
  },
  {
   "cell_type": "code",
   "execution_count": 7,
   "metadata": {
    "colab": {
     "base_uri": "https://localhost:8080/"
    },
    "executionInfo": {
     "elapsed": 1441,
     "status": "ok",
     "timestamp": 1695981098321,
     "user": {
      "displayName": "pycodes",
      "userId": "00703128687656036027"
     },
     "user_tz": -420
    },
    "id": "w0JJUMIBzm4D",
    "outputId": "62e57a32-a612-439f-e6e8-64ce49a3afd5"
   },
   "outputs": [
    {
     "data": {
      "text/plain": [
       "<All keys matched successfully>"
      ]
     },
     "execution_count": 7,
     "metadata": {},
     "output_type": "execute_result"
    }
   ],
   "source": [
    "pytorch_model = CNN()\n",
    "pytorch_model.load_state_dict(torch.load(\"./model.pth\"))"
   ]
  },
  {
   "cell_type": "code",
   "execution_count": 8,
   "metadata": {
    "colab": {
     "base_uri": "https://localhost:8080/"
    },
    "executionInfo": {
     "elapsed": 13,
     "status": "ok",
     "timestamp": 1695981098321,
     "user": {
      "displayName": "pycodes",
      "userId": "00703128687656036027"
     },
     "user_tz": -420
    },
    "id": "dhgJ-vbKzm8t",
    "outputId": "02cf9953-480b-4ee7-dd73-59a2eb697b4f"
   },
   "outputs": [
    {
     "data": {
      "text/plain": [
       "CNN(\n",
       "  (block1): Sequential(\n",
       "    (0): Conv2d(3, 16, kernel_size=(5, 5), stride=(1, 1), padding=(2, 2))\n",
       "    (1): MaxPool2d(kernel_size=2, stride=2, padding=0, dilation=1, ceil_mode=False)\n",
       "    (2): LeakyReLU(negative_slope=0.01)\n",
       "  )\n",
       "  (block2): Sequential(\n",
       "    (0): Conv2d(16, 32, kernel_size=(5, 5), stride=(1, 1), padding=(2, 2))\n",
       "    (1): MaxPool2d(kernel_size=2, stride=2, padding=0, dilation=1, ceil_mode=False)\n",
       "    (2): LeakyReLU(negative_slope=0.01)\n",
       "  )\n",
       "  (block3): Sequential(\n",
       "    (0): Linear(in_features=1568, out_features=100, bias=True)\n",
       "    (1): LeakyReLU(negative_slope=0.01)\n",
       "    (2): Linear(in_features=100, out_features=37, bias=True)\n",
       "  )\n",
       ")"
      ]
     },
     "execution_count": 8,
     "metadata": {},
     "output_type": "execute_result"
    }
   ],
   "source": [
    "pytorch_model.eval()"
   ]
  },
  {
   "cell_type": "code",
   "execution_count": 9,
   "metadata": {
    "colab": {
     "base_uri": "https://localhost:8080/"
    },
    "executionInfo": {
     "elapsed": 12,
     "status": "ok",
     "timestamp": 1695981098322,
     "user": {
      "displayName": "pycodes",
      "userId": "00703128687656036027"
     },
     "user_tz": -420
    },
    "id": "cxWBijZrzm_R",
    "outputId": "a5204823-4750-477c-eb5f-b1d3e07b1df7"
   },
   "outputs": [],
   "source": [
    "# Export the PyTorch model to ONNX format\n",
    "input_shape = (5, 3, 28, 28)\n",
    "dummy_input = torch.randn(input_shape)\n",
    "onnx_model_path = 'model.onnx'\n",
    "torch.onnx.export(pytorch_model, dummy_input, onnx_model_path, verbose=False)"
   ]
  },
  {
   "cell_type": "code",
   "execution_count": 10,
   "metadata": {
    "id": "Y5GeggA6znBM"
   },
   "outputs": [],
   "source": [
    "# Load the ONNX model\n",
    "onnx_model = onnx.load(onnx_model_path)"
   ]
  },
  {
   "cell_type": "code",
   "execution_count": 11,
   "metadata": {
    "id": "eezbvBnP0vNI"
   },
   "outputs": [],
   "source": [
    "# Convert the ONNX model to TensorFlow format\n",
    "# Error cause: KeyError: 'input.1'\n",
    "# tf_model_path = 'model.pb'\n",
    "# tf_rep = onnx_tf.backend.prepare(onnx_model)\n",
    "# tf_rep.export_graph(tf_model_path)"
   ]
  },
  {
   "cell_type": "code",
   "execution_count": 12,
   "metadata": {
    "colab": {
     "base_uri": "https://localhost:8080/"
    },
    "executionInfo": {
     "elapsed": 12,
     "status": "ok",
     "timestamp": 1695981098325,
     "user": {
      "displayName": "pycodes",
      "userId": "00703128687656036027"
     },
     "user_tz": -420
    },
    "id": "Z3ynqzi71gFb",
    "outputId": "8fa7ffaf-283c-48d8-aaea-8269721125ee"
   },
   "outputs": [
    {
     "name": "stdout",
     "output_type": "stream",
     "text": [
      "Model Inputs:  ['input.1']\n"
     ]
    }
   ],
   "source": [
    "# Error\n",
    "print(\"Model Inputs: \", [inp.name for inp in onnx_model.graph.input])"
   ]
  },
  {
   "cell_type": "code",
   "execution_count": 13,
   "metadata": {
    "id": "wStUq5B82OrJ"
   },
   "outputs": [],
   "source": [
    "# Change input.1 ke input_1\n",
    "import onnx\n",
    "from onnx import helper\n",
    "\n",
    "onnx_model = onnx.load(onnx_model_path)\n",
    "\n",
    "# Define a mapping from old names to new names\n",
    "name_map = {\"input.1\": \"input_1\"}\n",
    "\n",
    "# Initialize a list to hold the new inputs\n",
    "new_inputs = []\n",
    "\n",
    "# Iterate over the inputs and change their names if needed\n",
    "for inp in onnx_model.graph.input:\n",
    "    if inp.name in name_map:\n",
    "        # Create a new ValueInfoProto with the new name\n",
    "        new_inp = helper.make_tensor_value_info(name_map[inp.name],\n",
    "                                                inp.type.tensor_type.elem_type,\n",
    "                                                [dim.dim_value for dim in inp.type.tensor_type.shape.dim])\n",
    "        new_inputs.append(new_inp)\n",
    "    else:\n",
    "        new_inputs.append(inp)\n",
    "\n",
    "# Clear the old inputs and add the new ones\n",
    "onnx_model.graph.ClearField(\"input\")\n",
    "onnx_model.graph.input.extend(new_inputs)\n",
    "\n",
    "# Go through all nodes in the model and replace the old input name with the new one\n",
    "for node in onnx_model.graph.node:\n",
    "    for i, input_name in enumerate(node.input):\n",
    "        if input_name in name_map:\n",
    "            node.input[i] = name_map[input_name]\n",
    "\n",
    "# Save the renamed ONNX model\n",
    "onnx.save(onnx_model, 'model-new.onnx')"
   ]
  },
  {
   "cell_type": "code",
   "execution_count": null,
   "metadata": {
    "id": "WlEl3F173S3Y"
   },
   "outputs": [],
   "source": []
  }
 ],
 "metadata": {
  "colab": {
   "provenance": []
  },
  "kernelspec": {
   "display_name": "Python 3 (ipykernel)",
   "language": "python",
   "name": "python3"
  },
  "language_info": {
   "codemirror_mode": {
    "name": "ipython",
    "version": 3
   },
   "file_extension": ".py",
   "mimetype": "text/x-python",
   "name": "python",
   "nbconvert_exporter": "python",
   "pygments_lexer": "ipython3",
   "version": "3.11.5"
  }
 },
 "nbformat": 4,
 "nbformat_minor": 1
}
